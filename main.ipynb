{
 "cells": [
  {
   "attachments": {},
   "cell_type": "markdown",
   "metadata": {
    "id": "AZzyIv8tAIIH"
   },
   "source": [
    "# **LRT Key Performance Indicator**\n",
    "\n",
    "**Author/s: Anton Reyes** "
   ]
  },
  {
   "attachments": {},
   "cell_type": "markdown",
   "metadata": {
    "id": "ppFAnb9My2ZV"
   },
   "source": [
    "## **Introduction**"
   ]
  },
  {
   "attachments": {},
   "cell_type": "markdown",
   "metadata": {
    "id": "ohCExKZ4y2jN"
   },
   "source": [
    "### **Requirements and Imports**"
   ]
  },
  {
   "attachments": {},
   "cell_type": "markdown",
   "metadata": {
    "id": "xHXvwKOdy2qv"
   },
   "source": [
    "#### **Imports**"
   ]
  },
  {
   "attachments": {},
   "cell_type": "markdown",
   "metadata": {
    "id": "McPgWjwsglQw"
   },
   "source": [
    "**Basic Libraries**\n",
    "\n",
    "* `numpy` contains a large collection of mathematical functions\n",
    "* `pandas` contains functions that are designed for data manipulation and data analysis"
   ]
  },
  {
   "cell_type": "code",
   "execution_count": 493,
   "metadata": {
    "id": "82rNPPaTpyfe"
   },
   "outputs": [],
   "source": [
    "import numpy as np\n",
    "import pandas as pd"
   ]
  },
  {
   "attachments": {},
   "cell_type": "markdown",
   "metadata": {
    "id": "HjRvGoC9g_25"
   },
   "source": [
    "**Visualization Libraries**\n",
    "\n",
    "* `matplotlib.pyplot` contains functions to create interactive plots\n",
    "* `seaborn` is a library based on matplotlib that allows for data visualization\n",
    "* `plotly` is an open-source graphing library for Python."
   ]
  },
  {
   "cell_type": "code",
   "execution_count": 494,
   "metadata": {
    "id": "5YGgFzaZp1MO"
   },
   "outputs": [],
   "source": [
    "import matplotlib.pyplot as plt\n",
    "import seaborn as sns\n",
    "import plotly.express as px"
   ]
  },
  {
   "attachments": {},
   "cell_type": "markdown",
   "metadata": {
    "id": "wS-PzIoIzHd9"
   },
   "source": [
    "#### **Datasets and Files**"
   ]
  },
  {
   "attachments": {},
   "cell_type": "markdown",
   "metadata": {
    "id": "0r6nOJHZ9uPh"
   },
   "source": [
    "The following `csv` files were used for this project:\n",
    "\n",
    "- `passenger_traffic.csv` contains the passengers per month (in millions)\n",
    "- `peak_hour_trainsets_running.csv` contains the number of trains that run at peak hours per month."
   ]
  },
  {
   "attachments": {},
   "cell_type": "markdown",
   "metadata": {
    "id": "bOmp84vdy2xi"
   },
   "source": [
    "## **Data Collection**"
   ]
  },
  {
   "attachments": {},
   "cell_type": "markdown",
   "metadata": {
    "id": "v2y2p0DU-f0l"
   },
   "source": [
    "Importing the dataset using pandas."
   ]
  },
  {
   "cell_type": "code",
   "execution_count": 495,
   "metadata": {
    "colab": {
     "base_uri": "https://localhost:8080/",
     "height": 357
    },
    "id": "j4WSmzN3-LLl",
    "outputId": "08b81354-d39b-49d0-989a-9a1f10a53f44"
   },
   "outputs": [
    {
     "data": {
      "text/html": [
       "<div>\n",
       "<style scoped>\n",
       "    .dataframe tbody tr th:only-of-type {\n",
       "        vertical-align: middle;\n",
       "    }\n",
       "\n",
       "    .dataframe tbody tr th {\n",
       "        vertical-align: top;\n",
       "    }\n",
       "\n",
       "    .dataframe thead th {\n",
       "        text-align: right;\n",
       "    }\n",
       "</style>\n",
       "<table border=\"1\" class=\"dataframe\">\n",
       "  <thead>\n",
       "    <tr style=\"text-align: right;\">\n",
       "      <th></th>\n",
       "      <th>MONTH</th>\n",
       "      <th>2018</th>\n",
       "      <th>2019</th>\n",
       "      <th>2020</th>\n",
       "      <th>2021</th>\n",
       "      <th>2022</th>\n",
       "      <th>2023</th>\n",
       "    </tr>\n",
       "  </thead>\n",
       "  <tbody>\n",
       "    <tr>\n",
       "      <th>0</th>\n",
       "      <td>JANUARY</td>\n",
       "      <td>5.79</td>\n",
       "      <td>5.59</td>\n",
       "      <td>3.23</td>\n",
       "      <td>0.94</td>\n",
       "      <td>1.08</td>\n",
       "      <td>3.91</td>\n",
       "    </tr>\n",
       "    <tr>\n",
       "      <th>1</th>\n",
       "      <td>FEBRUARY</td>\n",
       "      <td>5.44</td>\n",
       "      <td>5.05</td>\n",
       "      <td>3.08</td>\n",
       "      <td>1.00</td>\n",
       "      <td>1.42</td>\n",
       "      <td>3.86</td>\n",
       "    </tr>\n",
       "    <tr>\n",
       "      <th>2</th>\n",
       "      <td>MARCH</td>\n",
       "      <td>5.21</td>\n",
       "      <td>5.61</td>\n",
       "      <td>1.26</td>\n",
       "      <td>0.93</td>\n",
       "      <td>1.96</td>\n",
       "      <td>4.20</td>\n",
       "    </tr>\n",
       "    <tr>\n",
       "      <th>3</th>\n",
       "      <td>APRIL</td>\n",
       "      <td>4.90</td>\n",
       "      <td>4.11</td>\n",
       "      <td>0.00</td>\n",
       "      <td>0.46</td>\n",
       "      <td>1.77</td>\n",
       "      <td>NaN</td>\n",
       "    </tr>\n",
       "    <tr>\n",
       "      <th>4</th>\n",
       "      <td>MAY</td>\n",
       "      <td>4.97</td>\n",
       "      <td>4.84</td>\n",
       "      <td>0.00</td>\n",
       "      <td>0.81</td>\n",
       "      <td>2.35</td>\n",
       "      <td>NaN</td>\n",
       "    </tr>\n",
       "    <tr>\n",
       "      <th>5</th>\n",
       "      <td>JUNE</td>\n",
       "      <td>4.87</td>\n",
       "      <td>4.74</td>\n",
       "      <td>0.66</td>\n",
       "      <td>0.80</td>\n",
       "      <td>2.63</td>\n",
       "      <td>NaN</td>\n",
       "    </tr>\n",
       "    <tr>\n",
       "      <th>6</th>\n",
       "      <td>JULY</td>\n",
       "      <td>5.35</td>\n",
       "      <td>5.59</td>\n",
       "      <td>0.85</td>\n",
       "      <td>1.01</td>\n",
       "      <td>2.79</td>\n",
       "      <td>NaN</td>\n",
       "    </tr>\n",
       "    <tr>\n",
       "      <th>7</th>\n",
       "      <td>AUGUST</td>\n",
       "      <td>5.82</td>\n",
       "      <td>5.69</td>\n",
       "      <td>0.33</td>\n",
       "      <td>0.73</td>\n",
       "      <td>3.14</td>\n",
       "      <td>NaN</td>\n",
       "    </tr>\n",
       "    <tr>\n",
       "      <th>8</th>\n",
       "      <td>SEPTEMBER</td>\n",
       "      <td>5.57</td>\n",
       "      <td>5.94</td>\n",
       "      <td>0.72</td>\n",
       "      <td>0.93</td>\n",
       "      <td>3.32</td>\n",
       "      <td>NaN</td>\n",
       "    </tr>\n",
       "    <tr>\n",
       "      <th>9</th>\n",
       "      <td>OCTOBER</td>\n",
       "      <td>6.01</td>\n",
       "      <td>3.28</td>\n",
       "      <td>0.75</td>\n",
       "      <td>1.15</td>\n",
       "      <td>3.65</td>\n",
       "      <td>NaN</td>\n",
       "    </tr>\n",
       "    <tr>\n",
       "      <th>10</th>\n",
       "      <td>NOVEMBER</td>\n",
       "      <td>5.47</td>\n",
       "      <td>3.46</td>\n",
       "      <td>0.73</td>\n",
       "      <td>1.29</td>\n",
       "      <td>3.72</td>\n",
       "      <td>NaN</td>\n",
       "    </tr>\n",
       "    <tr>\n",
       "      <th>11</th>\n",
       "      <td>DECEMBER</td>\n",
       "      <td>5.29</td>\n",
       "      <td>3.09</td>\n",
       "      <td>0.90</td>\n",
       "      <td>1.79</td>\n",
       "      <td>3.80</td>\n",
       "      <td>NaN</td>\n",
       "    </tr>\n",
       "    <tr>\n",
       "      <th>12</th>\n",
       "      <td>TOTAL</td>\n",
       "      <td>64.70</td>\n",
       "      <td>56.98</td>\n",
       "      <td>12.50</td>\n",
       "      <td>11.84</td>\n",
       "      <td>31.64</td>\n",
       "      <td>11.90</td>\n",
       "    </tr>\n",
       "  </tbody>\n",
       "</table>\n",
       "</div>"
      ],
      "text/plain": [
       "        MONTH   2018   2019   2020   2021   2022   2023\n",
       "0     JANUARY   5.79   5.59   3.23   0.94   1.08   3.91\n",
       "1    FEBRUARY   5.44   5.05   3.08   1.00   1.42   3.86\n",
       "2       MARCH   5.21   5.61   1.26   0.93   1.96   4.20\n",
       "3       APRIL   4.90   4.11   0.00   0.46   1.77    NaN\n",
       "4         MAY   4.97   4.84   0.00   0.81   2.35    NaN\n",
       "5        JUNE   4.87   4.74   0.66   0.80   2.63    NaN\n",
       "6        JULY   5.35   5.59   0.85   1.01   2.79    NaN\n",
       "7      AUGUST   5.82   5.69   0.33   0.73   3.14    NaN\n",
       "8   SEPTEMBER   5.57   5.94   0.72   0.93   3.32    NaN\n",
       "9     OCTOBER   6.01   3.28   0.75   1.15   3.65    NaN\n",
       "10   NOVEMBER   5.47   3.46   0.73   1.29   3.72    NaN\n",
       "11   DECEMBER   5.29   3.09   0.90   1.79   3.80    NaN\n",
       "12      TOTAL  64.70  56.98  12.50  11.84  31.64  11.90"
      ]
     },
     "metadata": {},
     "output_type": "display_data"
    },
    {
     "data": {
      "text/html": [
       "<div>\n",
       "<style scoped>\n",
       "    .dataframe tbody tr th:only-of-type {\n",
       "        vertical-align: middle;\n",
       "    }\n",
       "\n",
       "    .dataframe tbody tr th {\n",
       "        vertical-align: top;\n",
       "    }\n",
       "\n",
       "    .dataframe thead th {\n",
       "        text-align: right;\n",
       "    }\n",
       "</style>\n",
       "<table border=\"1\" class=\"dataframe\">\n",
       "  <thead>\n",
       "    <tr style=\"text-align: right;\">\n",
       "      <th></th>\n",
       "      <th>MONTH</th>\n",
       "      <th>2018</th>\n",
       "      <th>2019</th>\n",
       "      <th>2020</th>\n",
       "      <th>2021</th>\n",
       "      <th>2022</th>\n",
       "      <th>2023</th>\n",
       "    </tr>\n",
       "  </thead>\n",
       "  <tbody>\n",
       "    <tr>\n",
       "      <th>0</th>\n",
       "      <td>JANUARY</td>\n",
       "      <td>8</td>\n",
       "      <td>8</td>\n",
       "      <td>5</td>\n",
       "      <td>5</td>\n",
       "      <td>8</td>\n",
       "      <td>8.0</td>\n",
       "    </tr>\n",
       "    <tr>\n",
       "      <th>1</th>\n",
       "      <td>FEBRUARY</td>\n",
       "      <td>8</td>\n",
       "      <td>8</td>\n",
       "      <td>5</td>\n",
       "      <td>5</td>\n",
       "      <td>8</td>\n",
       "      <td>9.0</td>\n",
       "    </tr>\n",
       "    <tr>\n",
       "      <th>2</th>\n",
       "      <td>MARCH</td>\n",
       "      <td>8</td>\n",
       "      <td>7</td>\n",
       "      <td>5</td>\n",
       "      <td>5</td>\n",
       "      <td>8</td>\n",
       "      <td>9.0</td>\n",
       "    </tr>\n",
       "    <tr>\n",
       "      <th>3</th>\n",
       "      <td>APRIL</td>\n",
       "      <td>8</td>\n",
       "      <td>7</td>\n",
       "      <td>0</td>\n",
       "      <td>5</td>\n",
       "      <td>8</td>\n",
       "      <td>NaN</td>\n",
       "    </tr>\n",
       "    <tr>\n",
       "      <th>4</th>\n",
       "      <td>MAY</td>\n",
       "      <td>9</td>\n",
       "      <td>7</td>\n",
       "      <td>0</td>\n",
       "      <td>5</td>\n",
       "      <td>8</td>\n",
       "      <td>NaN</td>\n",
       "    </tr>\n",
       "    <tr>\n",
       "      <th>5</th>\n",
       "      <td>JUNE</td>\n",
       "      <td>8</td>\n",
       "      <td>7</td>\n",
       "      <td>5</td>\n",
       "      <td>5</td>\n",
       "      <td>9</td>\n",
       "      <td>NaN</td>\n",
       "    </tr>\n",
       "    <tr>\n",
       "      <th>6</th>\n",
       "      <td>JULY</td>\n",
       "      <td>8</td>\n",
       "      <td>7</td>\n",
       "      <td>5</td>\n",
       "      <td>6</td>\n",
       "      <td>9</td>\n",
       "      <td>NaN</td>\n",
       "    </tr>\n",
       "    <tr>\n",
       "      <th>7</th>\n",
       "      <td>AUGUST</td>\n",
       "      <td>8</td>\n",
       "      <td>7</td>\n",
       "      <td>5</td>\n",
       "      <td>7</td>\n",
       "      <td>9</td>\n",
       "      <td>NaN</td>\n",
       "    </tr>\n",
       "    <tr>\n",
       "      <th>8</th>\n",
       "      <td>SEPTEMBER</td>\n",
       "      <td>8</td>\n",
       "      <td>5</td>\n",
       "      <td>5</td>\n",
       "      <td>8</td>\n",
       "      <td>9</td>\n",
       "      <td>NaN</td>\n",
       "    </tr>\n",
       "    <tr>\n",
       "      <th>9</th>\n",
       "      <td>OCTOBER</td>\n",
       "      <td>8</td>\n",
       "      <td>5</td>\n",
       "      <td>5</td>\n",
       "      <td>8</td>\n",
       "      <td>9</td>\n",
       "      <td>NaN</td>\n",
       "    </tr>\n",
       "    <tr>\n",
       "      <th>10</th>\n",
       "      <td>NOVEMBER</td>\n",
       "      <td>8</td>\n",
       "      <td>5</td>\n",
       "      <td>5</td>\n",
       "      <td>8</td>\n",
       "      <td>9</td>\n",
       "      <td>NaN</td>\n",
       "    </tr>\n",
       "    <tr>\n",
       "      <th>11</th>\n",
       "      <td>DECEMBER</td>\n",
       "      <td>8</td>\n",
       "      <td>5</td>\n",
       "      <td>5</td>\n",
       "      <td>7</td>\n",
       "      <td>9</td>\n",
       "      <td>NaN</td>\n",
       "    </tr>\n",
       "    <tr>\n",
       "      <th>12</th>\n",
       "      <td>AVERAGE</td>\n",
       "      <td>8</td>\n",
       "      <td>7</td>\n",
       "      <td>4</td>\n",
       "      <td>6</td>\n",
       "      <td>9</td>\n",
       "      <td>9.0</td>\n",
       "    </tr>\n",
       "  </tbody>\n",
       "</table>\n",
       "</div>"
      ],
      "text/plain": [
       "        MONTH  2018  2019  2020  2021  2022  2023\n",
       "0     JANUARY     8     8     5     5     8   8.0\n",
       "1    FEBRUARY     8     8     5     5     8   9.0\n",
       "2       MARCH     8     7     5     5     8   9.0\n",
       "3       APRIL     8     7     0     5     8   NaN\n",
       "4         MAY     9     7     0     5     8   NaN\n",
       "5        JUNE     8     7     5     5     9   NaN\n",
       "6        JULY     8     7     5     6     9   NaN\n",
       "7      AUGUST     8     7     5     7     9   NaN\n",
       "8   SEPTEMBER     8     5     5     8     9   NaN\n",
       "9     OCTOBER     8     5     5     8     9   NaN\n",
       "10   NOVEMBER     8     5     5     8     9   NaN\n",
       "11   DECEMBER     8     5     5     7     9   NaN\n",
       "12    AVERAGE     8     7     4     6     9   9.0"
      ]
     },
     "metadata": {},
     "output_type": "display_data"
    }
   ],
   "source": [
    "traffic_df = pd.read_csv(\"datasets\\passenger_traffic.csv\")\n",
    "peak_df = pd.read_csv(\"datasets\\peak_hour_trainsets_running.csv\")\n",
    "\n",
    "display(traffic_df, peak_df)"
   ]
  },
  {
   "attachments": {},
   "cell_type": "markdown",
   "metadata": {
    "id": "1xhhYdY5zQXO"
   },
   "source": [
    "## **Description of the Dataset**"
   ]
  },
  {
   "attachments": {},
   "cell_type": "markdown",
   "metadata": {
    "id": "hkE6cv_fEVJb"
   },
   "source": [
    "Here, we find the shape of the datasets."
   ]
  },
  {
   "cell_type": "code",
   "execution_count": 496,
   "metadata": {
    "colab": {
     "base_uri": "https://localhost:8080/"
    },
    "id": "xjCI2jZ--klz",
    "outputId": "1c310bc7-c2e0-4c67-d8cb-a7d4a94dd35e"
   },
   "outputs": [
    {
     "data": {
      "text/plain": [
       "(13, 7)"
      ]
     },
     "execution_count": 496,
     "metadata": {},
     "output_type": "execute_result"
    }
   ],
   "source": [
    "traffic_df.shape"
   ]
  },
  {
   "cell_type": "code",
   "execution_count": 497,
   "metadata": {},
   "outputs": [
    {
     "data": {
      "text/plain": [
       "(13, 7)"
      ]
     },
     "execution_count": 497,
     "metadata": {},
     "output_type": "execute_result"
    }
   ],
   "source": [
    "peak_df.shape"
   ]
  },
  {
   "attachments": {},
   "cell_type": "markdown",
   "metadata": {
    "id": "b4xXJAoPEXau"
   },
   "source": [
    "By looking at the `info` of the dataframe, we can see that there are `non-null` values. "
   ]
  },
  {
   "cell_type": "code",
   "execution_count": 498,
   "metadata": {
    "colab": {
     "base_uri": "https://localhost:8080/"
    },
    "id": "Cd5-JeX--oNp",
    "outputId": "4b766982-da04-47ab-a2b3-92e82488a2f6"
   },
   "outputs": [
    {
     "name": "stdout",
     "output_type": "stream",
     "text": [
      "<class 'pandas.core.frame.DataFrame'>\n",
      "RangeIndex: 13 entries, 0 to 12\n",
      "Data columns (total 7 columns):\n",
      " #   Column  Non-Null Count  Dtype  \n",
      "---  ------  --------------  -----  \n",
      " 0   MONTH   13 non-null     object \n",
      " 1   2018    13 non-null     float64\n",
      " 2   2019    13 non-null     float64\n",
      " 3   2020    13 non-null     float64\n",
      " 4   2021    13 non-null     float64\n",
      " 5   2022    13 non-null     float64\n",
      " 6   2023    4 non-null      float64\n",
      "dtypes: float64(6), object(1)\n",
      "memory usage: 856.0+ bytes\n"
     ]
    }
   ],
   "source": [
    "traffic_df.info()"
   ]
  },
  {
   "cell_type": "code",
   "execution_count": 499,
   "metadata": {},
   "outputs": [
    {
     "name": "stdout",
     "output_type": "stream",
     "text": [
      "<class 'pandas.core.frame.DataFrame'>\n",
      "RangeIndex: 13 entries, 0 to 12\n",
      "Data columns (total 7 columns):\n",
      " #   Column  Non-Null Count  Dtype  \n",
      "---  ------  --------------  -----  \n",
      " 0   MONTH   13 non-null     object \n",
      " 1   2018    13 non-null     int64  \n",
      " 2   2019    13 non-null     int64  \n",
      " 3   2020    13 non-null     int64  \n",
      " 4   2021    13 non-null     int64  \n",
      " 5   2022    13 non-null     int64  \n",
      " 6   2023    4 non-null      float64\n",
      "dtypes: float64(1), int64(5), object(1)\n",
      "memory usage: 856.0+ bytes\n"
     ]
    }
   ],
   "source": [
    "peak_df.info()"
   ]
  },
  {
   "cell_type": "code",
   "execution_count": 500,
   "metadata": {},
   "outputs": [
    {
     "data": {
      "text/html": [
       "<div>\n",
       "<style scoped>\n",
       "    .dataframe tbody tr th:only-of-type {\n",
       "        vertical-align: middle;\n",
       "    }\n",
       "\n",
       "    .dataframe tbody tr th {\n",
       "        vertical-align: top;\n",
       "    }\n",
       "\n",
       "    .dataframe thead th {\n",
       "        text-align: right;\n",
       "    }\n",
       "</style>\n",
       "<table border=\"1\" class=\"dataframe\">\n",
       "  <thead>\n",
       "    <tr style=\"text-align: right;\">\n",
       "      <th></th>\n",
       "      <th>2018</th>\n",
       "      <th>2019</th>\n",
       "      <th>2020</th>\n",
       "      <th>2021</th>\n",
       "      <th>2022</th>\n",
       "      <th>2023</th>\n",
       "    </tr>\n",
       "  </thead>\n",
       "  <tbody>\n",
       "    <tr>\n",
       "      <th>count</th>\n",
       "      <td>13.000000</td>\n",
       "      <td>13.000000</td>\n",
       "      <td>13.000000</td>\n",
       "      <td>13.000000</td>\n",
       "      <td>13.000000</td>\n",
       "      <td>4.000000</td>\n",
       "    </tr>\n",
       "    <tr>\n",
       "      <th>mean</th>\n",
       "      <td>9.953077</td>\n",
       "      <td>8.766923</td>\n",
       "      <td>1.923846</td>\n",
       "      <td>1.821538</td>\n",
       "      <td>4.866923</td>\n",
       "      <td>5.967500</td>\n",
       "    </tr>\n",
       "    <tr>\n",
       "      <th>std</th>\n",
       "      <td>16.453206</td>\n",
       "      <td>14.519378</td>\n",
       "      <td>3.333321</td>\n",
       "      <td>3.026499</td>\n",
       "      <td>8.093326</td>\n",
       "      <td>3.957839</td>\n",
       "    </tr>\n",
       "    <tr>\n",
       "      <th>min</th>\n",
       "      <td>4.870000</td>\n",
       "      <td>3.090000</td>\n",
       "      <td>0.000000</td>\n",
       "      <td>0.460000</td>\n",
       "      <td>1.080000</td>\n",
       "      <td>3.860000</td>\n",
       "    </tr>\n",
       "    <tr>\n",
       "      <th>25%</th>\n",
       "      <td>5.210000</td>\n",
       "      <td>4.110000</td>\n",
       "      <td>0.660000</td>\n",
       "      <td>0.810000</td>\n",
       "      <td>1.960000</td>\n",
       "      <td>3.897500</td>\n",
       "    </tr>\n",
       "    <tr>\n",
       "      <th>50%</th>\n",
       "      <td>5.440000</td>\n",
       "      <td>5.050000</td>\n",
       "      <td>0.750000</td>\n",
       "      <td>0.940000</td>\n",
       "      <td>2.790000</td>\n",
       "      <td>4.055000</td>\n",
       "    </tr>\n",
       "    <tr>\n",
       "      <th>75%</th>\n",
       "      <td>5.790000</td>\n",
       "      <td>5.610000</td>\n",
       "      <td>1.260000</td>\n",
       "      <td>1.150000</td>\n",
       "      <td>3.650000</td>\n",
       "      <td>6.125000</td>\n",
       "    </tr>\n",
       "    <tr>\n",
       "      <th>max</th>\n",
       "      <td>64.700000</td>\n",
       "      <td>56.980000</td>\n",
       "      <td>12.500000</td>\n",
       "      <td>11.840000</td>\n",
       "      <td>31.640000</td>\n",
       "      <td>11.900000</td>\n",
       "    </tr>\n",
       "  </tbody>\n",
       "</table>\n",
       "</div>"
      ],
      "text/plain": [
       "            2018       2019       2020       2021       2022       2023\n",
       "count  13.000000  13.000000  13.000000  13.000000  13.000000   4.000000\n",
       "mean    9.953077   8.766923   1.923846   1.821538   4.866923   5.967500\n",
       "std    16.453206  14.519378   3.333321   3.026499   8.093326   3.957839\n",
       "min     4.870000   3.090000   0.000000   0.460000   1.080000   3.860000\n",
       "25%     5.210000   4.110000   0.660000   0.810000   1.960000   3.897500\n",
       "50%     5.440000   5.050000   0.750000   0.940000   2.790000   4.055000\n",
       "75%     5.790000   5.610000   1.260000   1.150000   3.650000   6.125000\n",
       "max    64.700000  56.980000  12.500000  11.840000  31.640000  11.900000"
      ]
     },
     "execution_count": 500,
     "metadata": {},
     "output_type": "execute_result"
    }
   ],
   "source": [
    "traffic_df.describe()"
   ]
  },
  {
   "cell_type": "code",
   "execution_count": 501,
   "metadata": {},
   "outputs": [
    {
     "data": {
      "text/html": [
       "<div>\n",
       "<style scoped>\n",
       "    .dataframe tbody tr th:only-of-type {\n",
       "        vertical-align: middle;\n",
       "    }\n",
       "\n",
       "    .dataframe tbody tr th {\n",
       "        vertical-align: top;\n",
       "    }\n",
       "\n",
       "    .dataframe thead th {\n",
       "        text-align: right;\n",
       "    }\n",
       "</style>\n",
       "<table border=\"1\" class=\"dataframe\">\n",
       "  <thead>\n",
       "    <tr style=\"text-align: right;\">\n",
       "      <th></th>\n",
       "      <th>2018</th>\n",
       "      <th>2019</th>\n",
       "      <th>2020</th>\n",
       "      <th>2021</th>\n",
       "      <th>2022</th>\n",
       "      <th>2023</th>\n",
       "    </tr>\n",
       "  </thead>\n",
       "  <tbody>\n",
       "    <tr>\n",
       "      <th>count</th>\n",
       "      <td>13.000000</td>\n",
       "      <td>13.000000</td>\n",
       "      <td>13.000000</td>\n",
       "      <td>13.000000</td>\n",
       "      <td>13.000000</td>\n",
       "      <td>4.00</td>\n",
       "    </tr>\n",
       "    <tr>\n",
       "      <th>mean</th>\n",
       "      <td>8.076923</td>\n",
       "      <td>6.538462</td>\n",
       "      <td>4.153846</td>\n",
       "      <td>6.153846</td>\n",
       "      <td>8.615385</td>\n",
       "      <td>8.75</td>\n",
       "    </tr>\n",
       "    <tr>\n",
       "      <th>std</th>\n",
       "      <td>0.277350</td>\n",
       "      <td>1.126601</td>\n",
       "      <td>1.863963</td>\n",
       "      <td>1.281025</td>\n",
       "      <td>0.506370</td>\n",
       "      <td>0.50</td>\n",
       "    </tr>\n",
       "    <tr>\n",
       "      <th>min</th>\n",
       "      <td>8.000000</td>\n",
       "      <td>5.000000</td>\n",
       "      <td>0.000000</td>\n",
       "      <td>5.000000</td>\n",
       "      <td>8.000000</td>\n",
       "      <td>8.00</td>\n",
       "    </tr>\n",
       "    <tr>\n",
       "      <th>25%</th>\n",
       "      <td>8.000000</td>\n",
       "      <td>5.000000</td>\n",
       "      <td>5.000000</td>\n",
       "      <td>5.000000</td>\n",
       "      <td>8.000000</td>\n",
       "      <td>8.75</td>\n",
       "    </tr>\n",
       "    <tr>\n",
       "      <th>50%</th>\n",
       "      <td>8.000000</td>\n",
       "      <td>7.000000</td>\n",
       "      <td>5.000000</td>\n",
       "      <td>6.000000</td>\n",
       "      <td>9.000000</td>\n",
       "      <td>9.00</td>\n",
       "    </tr>\n",
       "    <tr>\n",
       "      <th>75%</th>\n",
       "      <td>8.000000</td>\n",
       "      <td>7.000000</td>\n",
       "      <td>5.000000</td>\n",
       "      <td>7.000000</td>\n",
       "      <td>9.000000</td>\n",
       "      <td>9.00</td>\n",
       "    </tr>\n",
       "    <tr>\n",
       "      <th>max</th>\n",
       "      <td>9.000000</td>\n",
       "      <td>8.000000</td>\n",
       "      <td>5.000000</td>\n",
       "      <td>8.000000</td>\n",
       "      <td>9.000000</td>\n",
       "      <td>9.00</td>\n",
       "    </tr>\n",
       "  </tbody>\n",
       "</table>\n",
       "</div>"
      ],
      "text/plain": [
       "            2018       2019       2020       2021       2022  2023\n",
       "count  13.000000  13.000000  13.000000  13.000000  13.000000  4.00\n",
       "mean    8.076923   6.538462   4.153846   6.153846   8.615385  8.75\n",
       "std     0.277350   1.126601   1.863963   1.281025   0.506370  0.50\n",
       "min     8.000000   5.000000   0.000000   5.000000   8.000000  8.00\n",
       "25%     8.000000   5.000000   5.000000   5.000000   8.000000  8.75\n",
       "50%     8.000000   7.000000   5.000000   6.000000   9.000000  9.00\n",
       "75%     8.000000   7.000000   5.000000   7.000000   9.000000  9.00\n",
       "max     9.000000   8.000000   5.000000   8.000000   9.000000  9.00"
      ]
     },
     "execution_count": 501,
     "metadata": {},
     "output_type": "execute_result"
    }
   ],
   "source": [
    "peak_df.describe()"
   ]
  },
  {
   "attachments": {},
   "cell_type": "markdown",
   "metadata": {
    "id": "leSuwgFlzRfk"
   },
   "source": [
    "## **Exploratory Data Analysis**"
   ]
  },
  {
   "attachments": {},
   "cell_type": "markdown",
   "metadata": {},
   "source": [
    "***Questions to answer:***\n",
    "\n",
    "1. Which month has the most passenger traffic? Which has the least?\n",
    "2. What is the average number of trains per month?\n",
    "3. Is there a correlation between the average number of trains and the total number of traffic per year?\n",
    "4. Is there a correlation between the traffic and number of train dataframes?"
   ]
  },
  {
   "attachments": {},
   "cell_type": "markdown",
   "metadata": {},
   "source": [
    "### **1. Which month has the most passenger traffic? Which has the least?**"
   ]
  },
  {
   "attachments": {},
   "cell_type": "markdown",
   "metadata": {},
   "source": [
    "***Note: This is in millions***"
   ]
  },
  {
   "cell_type": "code",
   "execution_count": 502,
   "metadata": {},
   "outputs": [],
   "source": [
    "traffic_transposed = traffic_df[[\"MONTH\",\"2018\",\"2019\",\"2020\",\"2021\",\"2022\"]].T"
   ]
  },
  {
   "cell_type": "code",
   "execution_count": 503,
   "metadata": {},
   "outputs": [],
   "source": [
    "traffic_transposed.columns = traffic_transposed.iloc[0]\n",
    "traffic_transposed = traffic_transposed.drop(traffic_transposed.index[0])\n",
    "traffic_transposed = traffic_transposed.drop(\"TOTAL\", axis=1)\n",
    "traffic_transposed = traffic_transposed.apply(pd.to_numeric, errors='coerce')"
   ]
  },
  {
   "cell_type": "code",
   "execution_count": 504,
   "metadata": {},
   "outputs": [
    {
     "data": {
      "text/plain": [
       "MONTH\n",
       "JANUARY      5.79\n",
       "FEBRUARY     5.44\n",
       "MARCH        5.61\n",
       "APRIL        4.90\n",
       "MAY          4.97\n",
       "JUNE         4.87\n",
       "JULY         5.59\n",
       "AUGUST       5.82\n",
       "SEPTEMBER    5.94\n",
       "OCTOBER      6.01\n",
       "NOVEMBER     5.47\n",
       "DECEMBER     5.29\n",
       "dtype: float64"
      ]
     },
     "execution_count": 504,
     "metadata": {},
     "output_type": "execute_result"
    }
   ],
   "source": [
    "traffic_transposed.max()"
   ]
  },
  {
   "cell_type": "code",
   "execution_count": 505,
   "metadata": {},
   "outputs": [
    {
     "data": {
      "text/plain": [
       "MONTH\n",
       "JANUARY      0.94\n",
       "FEBRUARY     1.00\n",
       "MARCH        0.93\n",
       "APRIL        0.00\n",
       "MAY          0.00\n",
       "JUNE         0.66\n",
       "JULY         0.85\n",
       "AUGUST       0.33\n",
       "SEPTEMBER    0.72\n",
       "OCTOBER      0.75\n",
       "NOVEMBER     0.73\n",
       "DECEMBER     0.90\n",
       "dtype: float64"
      ]
     },
     "execution_count": 505,
     "metadata": {},
     "output_type": "execute_result"
    }
   ],
   "source": [
    "traffic_transposed.min()"
   ]
  },
  {
   "cell_type": "code",
   "execution_count": 506,
   "metadata": {},
   "outputs": [
    {
     "data": {
      "text/plain": [
       "MONTH\n",
       "JANUARY      3.3\n",
       "FEBRUARY     3.2\n",
       "MARCH        3.0\n",
       "APRIL        2.2\n",
       "MAY          2.6\n",
       "JUNE         2.7\n",
       "JULY         3.1\n",
       "AUGUST       3.1\n",
       "SEPTEMBER    3.3\n",
       "OCTOBER      3.0\n",
       "NOVEMBER     2.9\n",
       "DECEMBER     3.0\n",
       "dtype: float64"
      ]
     },
     "execution_count": 506,
     "metadata": {},
     "output_type": "execute_result"
    }
   ],
   "source": [
    "traffic_transposed.mean().round(1)"
   ]
  },
  {
   "attachments": {},
   "cell_type": "markdown",
   "metadata": {},
   "source": [
    "### **2. What is the average number of trains per month?**"
   ]
  },
  {
   "cell_type": "code",
   "execution_count": 507,
   "metadata": {},
   "outputs": [],
   "source": [
    "peak_transposed = peak_df[[\"MONTH\",\"2018\",\"2019\",\"2020\",\"2021\",\"2022\"]].T"
   ]
  },
  {
   "cell_type": "code",
   "execution_count": 508,
   "metadata": {},
   "outputs": [],
   "source": [
    "peak_transposed.columns = peak_transposed.iloc[0]\n",
    "peak_transposed = peak_transposed.drop(peak_transposed.index[0])\n",
    "peak_transposed = peak_transposed.drop(\"AVERAGE\", axis=1)\n",
    "peak_transposed = peak_transposed.apply(pd.to_numeric, errors='coerce')"
   ]
  },
  {
   "cell_type": "code",
   "execution_count": 509,
   "metadata": {},
   "outputs": [
    {
     "data": {
      "text/plain": [
       "MONTH\n",
       "JANUARY      7.0\n",
       "FEBRUARY     7.0\n",
       "MARCH        7.0\n",
       "APRIL        6.0\n",
       "MAY          6.0\n",
       "JUNE         7.0\n",
       "JULY         7.0\n",
       "AUGUST       7.0\n",
       "SEPTEMBER    7.0\n",
       "OCTOBER      7.0\n",
       "NOVEMBER     7.0\n",
       "DECEMBER     7.0\n",
       "dtype: float64"
      ]
     },
     "execution_count": 509,
     "metadata": {},
     "output_type": "execute_result"
    }
   ],
   "source": [
    "peak_transposed.mean().round()"
   ]
  },
  {
   "cell_type": "code",
   "execution_count": 510,
   "metadata": {},
   "outputs": [
    {
     "data": {
      "text/html": [
       "<div>\n",
       "<style scoped>\n",
       "    .dataframe tbody tr th:only-of-type {\n",
       "        vertical-align: middle;\n",
       "    }\n",
       "\n",
       "    .dataframe tbody tr th {\n",
       "        vertical-align: top;\n",
       "    }\n",
       "\n",
       "    .dataframe thead th {\n",
       "        text-align: right;\n",
       "    }\n",
       "</style>\n",
       "<table border=\"1\" class=\"dataframe\">\n",
       "  <thead>\n",
       "    <tr style=\"text-align: right;\">\n",
       "      <th>MONTH</th>\n",
       "      <th>JANUARY</th>\n",
       "      <th>FEBRUARY</th>\n",
       "      <th>MARCH</th>\n",
       "      <th>APRIL</th>\n",
       "      <th>MAY</th>\n",
       "      <th>JUNE</th>\n",
       "      <th>JULY</th>\n",
       "      <th>AUGUST</th>\n",
       "      <th>SEPTEMBER</th>\n",
       "      <th>OCTOBER</th>\n",
       "      <th>NOVEMBER</th>\n",
       "      <th>DECEMBER</th>\n",
       "    </tr>\n",
       "  </thead>\n",
       "  <tbody>\n",
       "    <tr>\n",
       "      <th>count</th>\n",
       "      <td>5.000000</td>\n",
       "      <td>5.000000</td>\n",
       "      <td>5.000000</td>\n",
       "      <td>5.000000</td>\n",
       "      <td>5.000000</td>\n",
       "      <td>5.000000</td>\n",
       "      <td>5.000000</td>\n",
       "      <td>5.00000</td>\n",
       "      <td>5.000000</td>\n",
       "      <td>5.000000</td>\n",
       "      <td>5.000000</td>\n",
       "      <td>5.000000</td>\n",
       "    </tr>\n",
       "    <tr>\n",
       "      <th>mean</th>\n",
       "      <td>6.800000</td>\n",
       "      <td>6.800000</td>\n",
       "      <td>6.600000</td>\n",
       "      <td>5.600000</td>\n",
       "      <td>5.800000</td>\n",
       "      <td>6.800000</td>\n",
       "      <td>7.000000</td>\n",
       "      <td>7.20000</td>\n",
       "      <td>7.000000</td>\n",
       "      <td>7.000000</td>\n",
       "      <td>7.000000</td>\n",
       "      <td>6.800000</td>\n",
       "    </tr>\n",
       "    <tr>\n",
       "      <th>std</th>\n",
       "      <td>1.643168</td>\n",
       "      <td>1.643168</td>\n",
       "      <td>1.516575</td>\n",
       "      <td>3.361547</td>\n",
       "      <td>3.563706</td>\n",
       "      <td>1.788854</td>\n",
       "      <td>1.581139</td>\n",
       "      <td>1.48324</td>\n",
       "      <td>1.870829</td>\n",
       "      <td>1.870829</td>\n",
       "      <td>1.870829</td>\n",
       "      <td>1.788854</td>\n",
       "    </tr>\n",
       "    <tr>\n",
       "      <th>min</th>\n",
       "      <td>5.000000</td>\n",
       "      <td>5.000000</td>\n",
       "      <td>5.000000</td>\n",
       "      <td>0.000000</td>\n",
       "      <td>0.000000</td>\n",
       "      <td>5.000000</td>\n",
       "      <td>5.000000</td>\n",
       "      <td>5.00000</td>\n",
       "      <td>5.000000</td>\n",
       "      <td>5.000000</td>\n",
       "      <td>5.000000</td>\n",
       "      <td>5.000000</td>\n",
       "    </tr>\n",
       "    <tr>\n",
       "      <th>25%</th>\n",
       "      <td>5.000000</td>\n",
       "      <td>5.000000</td>\n",
       "      <td>5.000000</td>\n",
       "      <td>5.000000</td>\n",
       "      <td>5.000000</td>\n",
       "      <td>5.000000</td>\n",
       "      <td>6.000000</td>\n",
       "      <td>7.00000</td>\n",
       "      <td>5.000000</td>\n",
       "      <td>5.000000</td>\n",
       "      <td>5.000000</td>\n",
       "      <td>5.000000</td>\n",
       "    </tr>\n",
       "    <tr>\n",
       "      <th>50%</th>\n",
       "      <td>8.000000</td>\n",
       "      <td>8.000000</td>\n",
       "      <td>7.000000</td>\n",
       "      <td>7.000000</td>\n",
       "      <td>7.000000</td>\n",
       "      <td>7.000000</td>\n",
       "      <td>7.000000</td>\n",
       "      <td>7.00000</td>\n",
       "      <td>8.000000</td>\n",
       "      <td>8.000000</td>\n",
       "      <td>8.000000</td>\n",
       "      <td>7.000000</td>\n",
       "    </tr>\n",
       "    <tr>\n",
       "      <th>75%</th>\n",
       "      <td>8.000000</td>\n",
       "      <td>8.000000</td>\n",
       "      <td>8.000000</td>\n",
       "      <td>8.000000</td>\n",
       "      <td>8.000000</td>\n",
       "      <td>8.000000</td>\n",
       "      <td>8.000000</td>\n",
       "      <td>8.00000</td>\n",
       "      <td>8.000000</td>\n",
       "      <td>8.000000</td>\n",
       "      <td>8.000000</td>\n",
       "      <td>8.000000</td>\n",
       "    </tr>\n",
       "    <tr>\n",
       "      <th>max</th>\n",
       "      <td>8.000000</td>\n",
       "      <td>8.000000</td>\n",
       "      <td>8.000000</td>\n",
       "      <td>8.000000</td>\n",
       "      <td>9.000000</td>\n",
       "      <td>9.000000</td>\n",
       "      <td>9.000000</td>\n",
       "      <td>9.00000</td>\n",
       "      <td>9.000000</td>\n",
       "      <td>9.000000</td>\n",
       "      <td>9.000000</td>\n",
       "      <td>9.000000</td>\n",
       "    </tr>\n",
       "  </tbody>\n",
       "</table>\n",
       "</div>"
      ],
      "text/plain": [
       "MONTH   JANUARY  FEBRUARY     MARCH     APRIL       MAY      JUNE      JULY  \\\n",
       "count  5.000000  5.000000  5.000000  5.000000  5.000000  5.000000  5.000000   \n",
       "mean   6.800000  6.800000  6.600000  5.600000  5.800000  6.800000  7.000000   \n",
       "std    1.643168  1.643168  1.516575  3.361547  3.563706  1.788854  1.581139   \n",
       "min    5.000000  5.000000  5.000000  0.000000  0.000000  5.000000  5.000000   \n",
       "25%    5.000000  5.000000  5.000000  5.000000  5.000000  5.000000  6.000000   \n",
       "50%    8.000000  8.000000  7.000000  7.000000  7.000000  7.000000  7.000000   \n",
       "75%    8.000000  8.000000  8.000000  8.000000  8.000000  8.000000  8.000000   \n",
       "max    8.000000  8.000000  8.000000  8.000000  9.000000  9.000000  9.000000   \n",
       "\n",
       "MONTH   AUGUST  SEPTEMBER   OCTOBER  NOVEMBER  DECEMBER  \n",
       "count  5.00000   5.000000  5.000000  5.000000  5.000000  \n",
       "mean   7.20000   7.000000  7.000000  7.000000  6.800000  \n",
       "std    1.48324   1.870829  1.870829  1.870829  1.788854  \n",
       "min    5.00000   5.000000  5.000000  5.000000  5.000000  \n",
       "25%    7.00000   5.000000  5.000000  5.000000  5.000000  \n",
       "50%    7.00000   8.000000  8.000000  8.000000  7.000000  \n",
       "75%    8.00000   8.000000  8.000000  8.000000  8.000000  \n",
       "max    9.00000   9.000000  9.000000  9.000000  9.000000  "
      ]
     },
     "execution_count": 510,
     "metadata": {},
     "output_type": "execute_result"
    }
   ],
   "source": [
    "peak_transposed.describe()"
   ]
  },
  {
   "attachments": {},
   "cell_type": "markdown",
   "metadata": {},
   "source": [
    "### **3. Is there a correlation between the average number of trains and the total number of traffic per year?**"
   ]
  },
  {
   "cell_type": "code",
   "execution_count": 517,
   "metadata": {},
   "outputs": [],
   "source": [
    "traffic_total = traffic_df.loc[[12]].reset_index(drop=True)\n",
    "peak_average = peak_df.loc[[12]].reset_index(drop=True)"
   ]
  },
  {
   "cell_type": "code",
   "execution_count": 518,
   "metadata": {},
   "outputs": [],
   "source": [
    "concat = pd.concat([traffic_total, peak_average], axis=0)"
   ]
  },
  {
   "cell_type": "code",
   "execution_count": 519,
   "metadata": {},
   "outputs": [],
   "source": [
    "#drop the index column\n",
    "concat = concat.reset_index(drop=True)\n",
    "concat = concat.T"
   ]
  },
  {
   "cell_type": "code",
   "execution_count": 520,
   "metadata": {},
   "outputs": [],
   "source": [
    "#make first rwo the column names and drop the first row\n",
    "concat.columns = concat.iloc[0]\n",
    "concat = concat.drop(concat.index[0])\n"
   ]
  },
  {
   "cell_type": "code",
   "execution_count": 521,
   "metadata": {},
   "outputs": [
    {
     "data": {
      "text/html": [
       "<div>\n",
       "<style scoped>\n",
       "    .dataframe tbody tr th:only-of-type {\n",
       "        vertical-align: middle;\n",
       "    }\n",
       "\n",
       "    .dataframe tbody tr th {\n",
       "        vertical-align: top;\n",
       "    }\n",
       "\n",
       "    .dataframe thead th {\n",
       "        text-align: right;\n",
       "    }\n",
       "</style>\n",
       "<table border=\"1\" class=\"dataframe\">\n",
       "  <thead>\n",
       "    <tr style=\"text-align: right;\">\n",
       "      <th>MONTH</th>\n",
       "      <th>TOTAL</th>\n",
       "      <th>AVERAGE</th>\n",
       "    </tr>\n",
       "  </thead>\n",
       "  <tbody>\n",
       "    <tr>\n",
       "      <th>2018</th>\n",
       "      <td>64.70</td>\n",
       "      <td>8.0</td>\n",
       "    </tr>\n",
       "    <tr>\n",
       "      <th>2019</th>\n",
       "      <td>56.98</td>\n",
       "      <td>7.0</td>\n",
       "    </tr>\n",
       "    <tr>\n",
       "      <th>2020</th>\n",
       "      <td>12.50</td>\n",
       "      <td>4.0</td>\n",
       "    </tr>\n",
       "    <tr>\n",
       "      <th>2021</th>\n",
       "      <td>11.84</td>\n",
       "      <td>6.0</td>\n",
       "    </tr>\n",
       "    <tr>\n",
       "      <th>2022</th>\n",
       "      <td>31.64</td>\n",
       "      <td>9.0</td>\n",
       "    </tr>\n",
       "    <tr>\n",
       "      <th>2023</th>\n",
       "      <td>11.90</td>\n",
       "      <td>9.0</td>\n",
       "    </tr>\n",
       "  </tbody>\n",
       "</table>\n",
       "</div>"
      ],
      "text/plain": [
       "MONTH  TOTAL  AVERAGE\n",
       "2018   64.70      8.0\n",
       "2019   56.98      7.0\n",
       "2020   12.50      4.0\n",
       "2021   11.84      6.0\n",
       "2022   31.64      9.0\n",
       "2023   11.90      9.0"
      ]
     },
     "execution_count": 521,
     "metadata": {},
     "output_type": "execute_result"
    }
   ],
   "source": [
    "#convert object to numeric\n",
    "concat = concat.apply(pd.to_numeric, errors='coerce')\n",
    "\n",
    "concat"
   ]
  },
  {
   "cell_type": "code",
   "execution_count": 522,
   "metadata": {},
   "outputs": [
    {
     "data": {
      "text/html": [
       "<div>\n",
       "<style scoped>\n",
       "    .dataframe tbody tr th:only-of-type {\n",
       "        vertical-align: middle;\n",
       "    }\n",
       "\n",
       "    .dataframe tbody tr th {\n",
       "        vertical-align: top;\n",
       "    }\n",
       "\n",
       "    .dataframe thead th {\n",
       "        text-align: right;\n",
       "    }\n",
       "</style>\n",
       "<table border=\"1\" class=\"dataframe\">\n",
       "  <thead>\n",
       "    <tr style=\"text-align: right;\">\n",
       "      <th></th>\n",
       "      <th>traffic_total</th>\n",
       "      <th>peak_average</th>\n",
       "    </tr>\n",
       "  </thead>\n",
       "  <tbody>\n",
       "    <tr>\n",
       "      <th>2018</th>\n",
       "      <td>64.70</td>\n",
       "      <td>8.0</td>\n",
       "    </tr>\n",
       "    <tr>\n",
       "      <th>2019</th>\n",
       "      <td>56.98</td>\n",
       "      <td>7.0</td>\n",
       "    </tr>\n",
       "    <tr>\n",
       "      <th>2020</th>\n",
       "      <td>12.50</td>\n",
       "      <td>4.0</td>\n",
       "    </tr>\n",
       "    <tr>\n",
       "      <th>2021</th>\n",
       "      <td>11.84</td>\n",
       "      <td>6.0</td>\n",
       "    </tr>\n",
       "    <tr>\n",
       "      <th>2022</th>\n",
       "      <td>31.64</td>\n",
       "      <td>9.0</td>\n",
       "    </tr>\n",
       "    <tr>\n",
       "      <th>2023</th>\n",
       "      <td>11.90</td>\n",
       "      <td>9.0</td>\n",
       "    </tr>\n",
       "  </tbody>\n",
       "</table>\n",
       "</div>"
      ],
      "text/plain": [
       "      traffic_total  peak_average\n",
       "2018          64.70           8.0\n",
       "2019          56.98           7.0\n",
       "2020          12.50           4.0\n",
       "2021          11.84           6.0\n",
       "2022          31.64           9.0\n",
       "2023          11.90           9.0"
      ]
     },
     "execution_count": 522,
     "metadata": {},
     "output_type": "execute_result"
    }
   ],
   "source": [
    "#rename columns\n",
    "concat.columns = [\"traffic_total\", \"peak_average\"]\n",
    "concat"
   ]
  },
  {
   "cell_type": "code",
   "execution_count": 523,
   "metadata": {},
   "outputs": [
    {
     "data": {
      "text/plain": [
       "<AxesSubplot:>"
      ]
     },
     "execution_count": 523,
     "metadata": {},
     "output_type": "execute_result"
    },
    {
     "data": {
      "image/png": "[encoded data removed]",
      "text/plain": [
       "<Figure size 720x720 with 2 Axes>"
      ]
     },
     "metadata": {
      "needs_background": "light"
     },
     "output_type": "display_data"
    }
   ],
   "source": [
    "#heatmap correlation matrix\n",
    "plt.figure(figsize=(10,10))\n",
    "sns.heatmap(concat.corr(), annot=True, cmap=\"coolwarm\")"
   ]
  },
  {
   "attachments": {},
   "cell_type": "markdown",
   "metadata": {},
   "source": [
    "### **4. Is there a correlation between the traffic and number of train dataframes?**"
   ]
  },
  {
   "cell_type": "code",
   "execution_count": 551,
   "metadata": {},
   "outputs": [],
   "source": [
    "months = ['JANUARY', 'FEBRUARY', 'MARCH', 'APRIL', 'MAY', 'JUNE','JULY', 'AUGUST', 'SEPTEMBER', 'OCTOBER', 'NOVEMBER', 'DECEMBER']"
   ]
  },
  {
   "cell_type": "code",
   "execution_count": 552,
   "metadata": {},
   "outputs": [
    {
     "data": {
      "text/html": [
       "<div>\n",
       "<style scoped>\n",
       "    .dataframe tbody tr th:only-of-type {\n",
       "        vertical-align: middle;\n",
       "    }\n",
       "\n",
       "    .dataframe tbody tr th {\n",
       "        vertical-align: top;\n",
       "    }\n",
       "\n",
       "    .dataframe thead th {\n",
       "        text-align: right;\n",
       "    }\n",
       "</style>\n",
       "<table border=\"1\" class=\"dataframe\">\n",
       "  <thead>\n",
       "    <tr style=\"text-align: right;\">\n",
       "      <th></th>\n",
       "      <th>0</th>\n",
       "    </tr>\n",
       "    <tr>\n",
       "      <th>MONTH</th>\n",
       "      <th></th>\n",
       "    </tr>\n",
       "  </thead>\n",
       "  <tbody>\n",
       "    <tr>\n",
       "      <th>JANUARY</th>\n",
       "      <td>0.483678</td>\n",
       "    </tr>\n",
       "    <tr>\n",
       "      <th>FEBRUARY</th>\n",
       "      <td>0.521069</td>\n",
       "    </tr>\n",
       "    <tr>\n",
       "      <th>MARCH</th>\n",
       "      <td>0.645670</td>\n",
       "    </tr>\n",
       "    <tr>\n",
       "      <th>APRIL</th>\n",
       "      <td>0.733582</td>\n",
       "    </tr>\n",
       "    <tr>\n",
       "      <th>MAY</th>\n",
       "      <td>0.809763</td>\n",
       "    </tr>\n",
       "    <tr>\n",
       "      <th>JUNE</th>\n",
       "      <td>0.681796</td>\n",
       "    </tr>\n",
       "    <tr>\n",
       "      <th>JULY</th>\n",
       "      <td>0.570123</td>\n",
       "    </tr>\n",
       "    <tr>\n",
       "      <th>AUGUST</th>\n",
       "      <td>0.534495</td>\n",
       "    </tr>\n",
       "    <tr>\n",
       "      <th>SEPTEMBER</th>\n",
       "      <td>-0.009740</td>\n",
       "    </tr>\n",
       "    <tr>\n",
       "      <th>OCTOBER</th>\n",
       "      <td>0.402705</td>\n",
       "    </tr>\n",
       "    <tr>\n",
       "      <th>NOVEMBER</th>\n",
       "      <td>0.403151</td>\n",
       "    </tr>\n",
       "    <tr>\n",
       "      <th>DECEMBER</th>\n",
       "      <td>0.642516</td>\n",
       "    </tr>\n",
       "  </tbody>\n",
       "</table>\n",
       "</div>"
      ],
      "text/plain": [
       "                  0\n",
       "MONTH              \n",
       "JANUARY    0.483678\n",
       "FEBRUARY   0.521069\n",
       "MARCH      0.645670\n",
       "APRIL      0.733582\n",
       "MAY        0.809763\n",
       "JUNE       0.681796\n",
       "JULY       0.570123\n",
       "AUGUST     0.534495\n",
       "SEPTEMBER -0.009740\n",
       "OCTOBER    0.402705\n",
       "NOVEMBER   0.403151\n",
       "DECEMBER   0.642516"
      ]
     },
     "execution_count": 552,
     "metadata": {},
     "output_type": "execute_result"
    }
   ],
   "source": [
    "corr_df = pd.DataFrame(peak_transposed[months].corrwith(traffic_transposed[months]))\n",
    "\n",
    "corr_df"
   ]
  },
  {
   "cell_type": "code",
   "execution_count": 553,
   "metadata": {},
   "outputs": [],
   "source": [
    "corr_df.columns = [\"correlation\"]\n",
    "\n",
    "#reset index for column names\n",
    "corr_df = corr_df.reset_index()"
   ]
  },
  {
   "cell_type": "code",
   "execution_count": 555,
   "metadata": {},
   "outputs": [
    {
     "data": {
      "text/html": [
       "<div>\n",
       "<style scoped>\n",
       "    .dataframe tbody tr th:only-of-type {\n",
       "        vertical-align: middle;\n",
       "    }\n",
       "\n",
       "    .dataframe tbody tr th {\n",
       "        vertical-align: top;\n",
       "    }\n",
       "\n",
       "    .dataframe thead th {\n",
       "        text-align: right;\n",
       "    }\n",
       "</style>\n",
       "<table border=\"1\" class=\"dataframe\">\n",
       "  <thead>\n",
       "    <tr style=\"text-align: right;\">\n",
       "      <th></th>\n",
       "      <th>MONTH</th>\n",
       "      <th>correlation</th>\n",
       "    </tr>\n",
       "  </thead>\n",
       "  <tbody>\n",
       "    <tr>\n",
       "      <th>4</th>\n",
       "      <td>MAY</td>\n",
       "      <td>0.809763</td>\n",
       "    </tr>\n",
       "    <tr>\n",
       "      <th>3</th>\n",
       "      <td>APRIL</td>\n",
       "      <td>0.733582</td>\n",
       "    </tr>\n",
       "    <tr>\n",
       "      <th>5</th>\n",
       "      <td>JUNE</td>\n",
       "      <td>0.681796</td>\n",
       "    </tr>\n",
       "    <tr>\n",
       "      <th>2</th>\n",
       "      <td>MARCH</td>\n",
       "      <td>0.645670</td>\n",
       "    </tr>\n",
       "    <tr>\n",
       "      <th>11</th>\n",
       "      <td>DECEMBER</td>\n",
       "      <td>0.642516</td>\n",
       "    </tr>\n",
       "    <tr>\n",
       "      <th>6</th>\n",
       "      <td>JULY</td>\n",
       "      <td>0.570123</td>\n",
       "    </tr>\n",
       "    <tr>\n",
       "      <th>7</th>\n",
       "      <td>AUGUST</td>\n",
       "      <td>0.534495</td>\n",
       "    </tr>\n",
       "    <tr>\n",
       "      <th>1</th>\n",
       "      <td>FEBRUARY</td>\n",
       "      <td>0.521069</td>\n",
       "    </tr>\n",
       "    <tr>\n",
       "      <th>0</th>\n",
       "      <td>JANUARY</td>\n",
       "      <td>0.483678</td>\n",
       "    </tr>\n",
       "    <tr>\n",
       "      <th>10</th>\n",
       "      <td>NOVEMBER</td>\n",
       "      <td>0.403151</td>\n",
       "    </tr>\n",
       "    <tr>\n",
       "      <th>9</th>\n",
       "      <td>OCTOBER</td>\n",
       "      <td>0.402705</td>\n",
       "    </tr>\n",
       "    <tr>\n",
       "      <th>8</th>\n",
       "      <td>SEPTEMBER</td>\n",
       "      <td>-0.009740</td>\n",
       "    </tr>\n",
       "  </tbody>\n",
       "</table>\n",
       "</div>"
      ],
      "text/plain": [
       "        MONTH  correlation\n",
       "4         MAY     0.809763\n",
       "3       APRIL     0.733582\n",
       "5        JUNE     0.681796\n",
       "2       MARCH     0.645670\n",
       "11   DECEMBER     0.642516\n",
       "6        JULY     0.570123\n",
       "7      AUGUST     0.534495\n",
       "1    FEBRUARY     0.521069\n",
       "0     JANUARY     0.483678\n",
       "10   NOVEMBER     0.403151\n",
       "9     OCTOBER     0.402705\n",
       "8   SEPTEMBER    -0.009740"
      ]
     },
     "execution_count": 555,
     "metadata": {},
     "output_type": "execute_result"
    }
   ],
   "source": [
    "corr_df.sort_values(by=\"correlation\", ascending=False)"
   ]
  },
  {
   "attachments": {},
   "cell_type": "markdown",
   "metadata": {
    "id": "cau2aFTizRny"
   },
   "source": [
    "## **Data Preprocessing**"
   ]
  },
  {
   "attachments": {},
   "cell_type": "markdown",
   "metadata": {
    "id": "r_K5_I_oF4au"
   },
   "source": [
    "#### **Data Preprocessing**"
   ]
  },
  {
   "attachments": {},
   "cell_type": "markdown",
   "metadata": {},
   "source": [
    "#### **Data Cleaning**"
   ]
  },
  {
   "attachments": {},
   "cell_type": "markdown",
   "metadata": {},
   "source": [
    "#### **Feature Selection**"
   ]
  },
  {
   "attachments": {},
   "cell_type": "markdown",
   "metadata": {
    "id": "i2bH73IK4_Z2"
   },
   "source": [
    "# **Saving Dataframes as CSVs**"
   ]
  },
  {
   "cell_type": "code",
   "execution_count": null,
   "metadata": {},
   "outputs": [],
   "source": [
    "#.to_csv('.csv')\n"
   ]
  }
 ],
 "metadata": {
  "colab": {
   "authorship_tag": "ABX9TyNl8yGGgRPIQJF26wcDNzFD",
   "collapsed_sections": [
    "ppFAnb9My2ZV",
    "ohCExKZ4y2jN",
    "xHXvwKOdy2qv",
    "bOmp84vdy2xi",
    "1xhhYdY5zQXO",
    "leSuwgFlzRfk",
    "cau2aFTizRny",
    "RCZGlrwFGMK6",
    "YxdYSmUNJEZj",
    "sBwZs9vTm_ls",
    "4qVk5PTvzq4w",
    "p1qyD5eozuY7",
    "GfyASe1kzvJ8",
    "GHCV--QQzvdG",
    "JbyUbdrR47eH",
    "i2bH73IK4_Z2"
   ],
   "include_colab_link": true,
   "provenance": []
  },
  "kernelspec": {
   "display_name": "Python 3",
   "language": "python",
   "name": "python3"
  },
  "language_info": {
   "codemirror_mode": {
    "name": "ipython",
    "version": 3
   },
   "file_extension": ".py",
   "mimetype": "text/x-python",
   "name": "python",
   "nbconvert_exporter": "python",
   "pygments_lexer": "ipython3",
   "version": "3.8.13"
  }
 },
 "nbformat": 4,
 "nbformat_minor": 4
}
